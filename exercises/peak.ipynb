{
 "cells": [
  {
   "cell_type": "markdown",
   "metadata": {},
   "source": [
    "Peak element in an array problem\n",
    "Definition of a peak element\n",
    "    \n",
    "            5\n",
    "    1 2 3 4   3 6 7 8 \n",
    "\n",
    "Traverse a list of integers and identify all its peaks"
   ]
  },
  {
   "cell_type": "code",
   "execution_count": 21,
   "metadata": {},
   "outputs": [
    {
     "name": "stdout",
     "output_type": "stream",
     "text": [
      "found peak at 2\n",
      "found peak at 4\n"
     ]
    }
   ],
   "source": [
    "\"\"\"\n",
    "    peak element in the array\n",
    "    with bug\n",
    "\"\"\"\n",
    "\n",
    "a = [1,2,5,3,4,2,1,2,1]\n",
    "\n",
    "curr = 0\n",
    "prev = 0\n",
    "nex = 0\n",
    "\n",
    "n = len(a)\n",
    "for i in range(1,n-1):\n",
    "    curr = a[i]\n",
    "    if(i==0):\n",
    "        continue\n",
    "    prev = a[i-1]\n",
    "    if(i==n-2):\n",
    "        continue\n",
    "    nex = a[i+1]\n",
    "    \n",
    "    if(prev < curr and curr > nex):\n",
    "        print(\"found peak at \"+str(curr))\n",
    "    "
   ]
  },
  {
   "cell_type": "code",
   "execution_count": 3,
   "metadata": {},
   "outputs": [],
   "source": [
    "ip = [1,2,3,4,5]"
   ]
  },
  {
   "cell_type": "code",
   "execution_count": 8,
   "metadata": {},
   "outputs": [
    {
     "data": {
      "text/plain": [
       "5"
      ]
     },
     "execution_count": 8,
     "metadata": {},
     "output_type": "execute_result"
    }
   ],
   "source": [
    "len(ip)"
   ]
  },
  {
   "cell_type": "code",
   "execution_count": 11,
   "metadata": {
    "scrolled": true
   },
   "outputs": [
    {
     "name": "stdout",
     "output_type": "stream",
     "text": [
      "1\n",
      "2\n",
      "3\n",
      "4\n"
     ]
    }
   ],
   "source": [
    "for i in range(1,len(ip)):\n",
    "    print(i)"
   ]
  },
  {
   "cell_type": "code",
   "execution_count": 22,
   "metadata": {},
   "outputs": [
    {
     "name": "stdout",
     "output_type": "stream",
     "text": [
      "found peak at 2\n",
      "found peak at 4\n",
      "found peak at 7\n"
     ]
    }
   ],
   "source": [
    "\"\"\"\n",
    "    peak element in the array\n",
    "    without bug\n",
    "\"\"\"\n",
    "\n",
    "a = [1,2,5,3,4,2,1,2,1]\n",
    "\n",
    "curr = 0\n",
    "prev = 0\n",
    "nex = 0\n",
    "\n",
    "n = len(a)\n",
    "for i in range(1,n-1):\n",
    "    curr = a[i]\n",
    "    if(i==0):\n",
    "        continue\n",
    "    prev = a[i-1]\n",
    "    if(i==n-1):\n",
    "        continue\n",
    "    nex = a[i+1]\n",
    "    \n",
    "    if(prev < curr and curr > nex):\n",
    "        print(\"found peak at \"+str(curr))\n",
    "    "
   ]
  },
  {
   "cell_type": "markdown",
   "metadata": {},
   "source": [
    "Next: implement as a function"
   ]
  },
  {
   "cell_type": "code",
   "execution_count": 25,
   "metadata": {},
   "outputs": [],
   "source": [
    "\n",
    "def peakFun (a):\n",
    "    curr = 0\n",
    "    prev = 0\n",
    "    nex = 0\n",
    "\n",
    "    n = len(a)\n",
    "    for i in range(1,n-1):\n",
    "        curr = a[i]\n",
    "        if(i==0):\n",
    "            continue\n",
    "        prev = a[i-1]\n",
    "        if(i==n-1):\n",
    "            continue\n",
    "        nex = a[i+1]\n",
    "\n",
    "        if(prev < curr and curr > nex):\n",
    "            print(\"found peak at \"+str(prev)+\" \"+str(curr)+\" \"+str(nex))\n"
   ]
  },
  {
   "cell_type": "code",
   "execution_count": 26,
   "metadata": {},
   "outputs": [
    {
     "name": "stdout",
     "output_type": "stream",
     "text": [
      "found peak at 3 5 4\n"
     ]
    }
   ],
   "source": [
    "a = [1,2,3,5,4,3,2,1]\n",
    "peakFun(a)"
   ]
  },
  {
   "cell_type": "markdown",
   "metadata": {},
   "source": []
  }
 ],
 "metadata": {
  "kernelspec": {
   "display_name": "Python 3",
   "language": "python",
   "name": "python3"
  },
  "language_info": {
   "codemirror_mode": {
    "name": "ipython",
    "version": 3
   },
   "file_extension": ".py",
   "mimetype": "text/x-python",
   "name": "python",
   "nbconvert_exporter": "python",
   "pygments_lexer": "ipython3",
   "version": "3.6.8"
  }
 },
 "nbformat": 4,
 "nbformat_minor": 2
}
